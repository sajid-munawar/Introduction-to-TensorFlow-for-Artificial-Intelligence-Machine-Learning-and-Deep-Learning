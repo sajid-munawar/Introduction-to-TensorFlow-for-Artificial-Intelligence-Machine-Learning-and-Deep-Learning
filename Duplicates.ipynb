{
  "nbformat": 4,
  "nbformat_minor": 0,
  "metadata": {
    "colab": {
      "name": "Duplicates",
      "provenance": [],
      "collapsed_sections": [
        "AdqLGpdH_867",
        "o39LEL0PmKJa",
        "BMXTATeJmOGX",
        "jjWk6FgGmcFt",
        "uDUA4XhzmgeZ",
        "2gjU-yrmmo8I",
        "4eKKFvwwm0nk",
        "-2w3AIF3m7W7"
      ],
      "include_colab_link": true
    },
    "kernelspec": {
      "name": "python3",
      "display_name": "Python 3"
    }
  },
  "cells": [
    {
      "cell_type": "markdown",
      "metadata": {
        "id": "view-in-github",
        "colab_type": "text"
      },
      "source": [
        "<a href=\"https://colab.research.google.com/github/sajid-munawar/Introduction-to-TensorFlow-for-Artificial-Intelligence-Machine-Learning-and-Deep-Learning/blob/main/Duplicates.ipynb\" target=\"_parent\"><img src=\"https://colab.research.google.com/assets/colab-badge.svg\" alt=\"Open In Colab\"/></a>"
      ]
    },
    {
      "cell_type": "markdown",
      "metadata": {
        "id": "8tAUAu98l-E6"
      },
      "source": [
        "## 4. Duplicates"
      ]
    },
    {
      "cell_type": "markdown",
      "metadata": {
        "id": "AdqLGpdH_867"
      },
      "source": [
        "#### <font color=\"blue\">Pre-requisites</font>"
      ]
    },
    {
      "cell_type": "code",
      "metadata": {
        "id": "tzG_vFPsAF9H"
      },
      "source": [
        "# Pre-requisite 1\n",
        "# ---\n",
        "# Importing pandas library\n",
        "# ---\n",
        "# OUR CODE GOES BELOW\n",
        "# \n",
        "import pandas as pd"
      ],
      "execution_count": null,
      "outputs": []
    },
    {
      "cell_type": "markdown",
      "metadata": {
        "id": "o39LEL0PmKJa"
      },
      "source": [
        "#### <font color=\"blue\">Examples</font>"
      ]
    },
    {
      "cell_type": "markdown",
      "metadata": {
        "id": "BMXTATeJmOGX"
      },
      "source": [
        "##### <font color=\"blue\">Example 1</font>"
      ]
    },
    {
      "cell_type": "code",
      "metadata": {
        "id": "Ql23JRMAlvv2",
        "colab": {
          "base_uri": "https://localhost:8080/",
          "height": 300
        },
        "outputId": "dab284ab-a1e3-4aa3-d03a-c139a2dfc3ba"
      },
      "source": [
        "# Example 1\n",
        "# --- \n",
        "# Finding duplicate records\n",
        "# -> Duplicate records are repeated records in a dataset.\n",
        "# ---\n",
        "# Dataset url = http://bit.ly/SampleDataset\n",
        "# ---\n",
        "# OUR CODE GOES BELOW\n",
        "# \n",
        "df = pd.read_csv('http://bit.ly/SampleDataset')\n",
        "\n",
        "# Previewing our dataset \n",
        "# ---\n",
        "# \n",
        "df"
      ],
      "execution_count": null,
      "outputs": [
        {
          "output_type": "execute_result",
          "data": {
            "text/html": [
              "<div>\n",
              "<style scoped>\n",
              "    .dataframe tbody tr th:only-of-type {\n",
              "        vertical-align: middle;\n",
              "    }\n",
              "\n",
              "    .dataframe tbody tr th {\n",
              "        vertical-align: top;\n",
              "    }\n",
              "\n",
              "    .dataframe thead th {\n",
              "        text-align: right;\n",
              "    }\n",
              "</style>\n",
              "<table border=\"1\" class=\"dataframe\">\n",
              "  <thead>\n",
              "    <tr style=\"text-align: right;\">\n",
              "      <th></th>\n",
              "      <th>NAME</th>\n",
              "      <th>CITY</th>\n",
              "      <th>COUNTRY</th>\n",
              "      <th>HEIGHT</th>\n",
              "      <th>WEIGHT</th>\n",
              "      <th>ACCOUNT A</th>\n",
              "      <th>ACCOUNT B</th>\n",
              "      <th>TOTAL ACCOUNT</th>\n",
              "    </tr>\n",
              "  </thead>\n",
              "  <tbody>\n",
              "    <tr>\n",
              "      <th>0</th>\n",
              "      <td>Adi Dako</td>\n",
              "      <td>LISBON</td>\n",
              "      <td>PORTUGAL</td>\n",
              "      <td>56</td>\n",
              "      <td>132.0</td>\n",
              "      <td>2390.0</td>\n",
              "      <td>4340</td>\n",
              "      <td>6730</td>\n",
              "    </tr>\n",
              "    <tr>\n",
              "      <th>1</th>\n",
              "      <td>John Paul</td>\n",
              "      <td>LONDON</td>\n",
              "      <td>UNITED KINGDOM</td>\n",
              "      <td>62</td>\n",
              "      <td>165.0</td>\n",
              "      <td>4500.0</td>\n",
              "      <td>34334</td>\n",
              "      <td>38834</td>\n",
              "    </tr>\n",
              "    <tr>\n",
              "      <th>2</th>\n",
              "      <td>Cindy Jules</td>\n",
              "      <td>Stockholm</td>\n",
              "      <td>Sweden</td>\n",
              "      <td>48</td>\n",
              "      <td>117.0</td>\n",
              "      <td>NaN</td>\n",
              "      <td>5504</td>\n",
              "      <td>8949</td>\n",
              "    </tr>\n",
              "    <tr>\n",
              "      <th>3</th>\n",
              "      <td>Arthur Kegels</td>\n",
              "      <td>BRUSSELS</td>\n",
              "      <td>BELGIUM</td>\n",
              "      <td>59</td>\n",
              "      <td>121.0</td>\n",
              "      <td>4344.0</td>\n",
              "      <td>8999</td>\n",
              "      <td>300</td>\n",
              "    </tr>\n",
              "    <tr>\n",
              "      <th>4</th>\n",
              "      <td>Freya Bismark</td>\n",
              "      <td>Berlin</td>\n",
              "      <td>GERMANYY</td>\n",
              "      <td>53</td>\n",
              "      <td>126.0</td>\n",
              "      <td>7000.0</td>\n",
              "      <td>19000</td>\n",
              "      <td>26000</td>\n",
              "    </tr>\n",
              "    <tr>\n",
              "      <th>5</th>\n",
              "      <td>Rena Filip</td>\n",
              "      <td>Brasilia</td>\n",
              "      <td>BRAZIL</td>\n",
              "      <td>50</td>\n",
              "      <td>167.0</td>\n",
              "      <td>4999.0</td>\n",
              "      <td>3999</td>\n",
              "      <td>3450</td>\n",
              "    </tr>\n",
              "    <tr>\n",
              "      <th>6</th>\n",
              "      <td>Cindy Jules</td>\n",
              "      <td>Stockholm</td>\n",
              "      <td>Sweden</td>\n",
              "      <td>48</td>\n",
              "      <td>117.0</td>\n",
              "      <td>3445.0</td>\n",
              "      <td>5504</td>\n",
              "      <td>8949</td>\n",
              "    </tr>\n",
              "    <tr>\n",
              "      <th>7</th>\n",
              "      <td>John Paul</td>\n",
              "      <td>LONDON</td>\n",
              "      <td>UNITED KINGDOM</td>\n",
              "      <td>62</td>\n",
              "      <td>NaN</td>\n",
              "      <td>4500.0</td>\n",
              "      <td>2300</td>\n",
              "      <td>6800</td>\n",
              "    </tr>\n",
              "  </tbody>\n",
              "</table>\n",
              "</div>"
            ],
            "text/plain": [
              "                NAME               CITY  ... ACCOUNT B  TOTAL ACCOUNT\n",
              "0          Adi Dako          LISBON      ...      4340           6730\n",
              "1          John Paul          LONDON     ...     34334          38834\n",
              "2        Cindy Jules          Stockholm  ...      5504           8949\n",
              "3      Arthur Kegels           BRUSSELS  ...      8999            300\n",
              "4      Freya Bismark             Berlin  ...     19000          26000\n",
              "5         Rena Filip       Brasilia      ...      3999           3450\n",
              "6        Cindy Jules          Stockholm  ...      5504           8949\n",
              "7          John Paul          LONDON     ...      2300           6800\n",
              "\n",
              "[8 rows x 8 columns]"
            ]
          },
          "metadata": {},
          "execution_count": 2
        }
      ]
    },
    {
      "cell_type": "code",
      "metadata": {
        "id": "_6L77xTw8Skr",
        "colab": {
          "base_uri": "https://localhost:8080/"
        },
        "outputId": "cf26a297-3a17-40e7-b0ea-63d0daafabb9"
      },
      "source": [
        "# Determining the shape of our dataset (records/instances, columns/variables)\n",
        "# ---\n",
        "# \n",
        "df.shape"
      ],
      "execution_count": null,
      "outputs": [
        {
          "output_type": "execute_result",
          "data": {
            "text/plain": [
              "(8, 8)"
            ]
          },
          "metadata": {},
          "execution_count": 3
        }
      ]
    },
    {
      "cell_type": "code",
      "metadata": {
        "id": "XRdHqs9p1L8t",
        "colab": {
          "base_uri": "https://localhost:8080/",
          "height": 49
        },
        "outputId": "584d5ed9-fd81-4520-cbd7-44c5a4a4ca7b"
      },
      "source": [
        "# We can then identify which observations are duplicates\n",
        "# through the duplicates function and sum() to know how many\n",
        "# duplicate records there are.\n",
        "# In our case we don't have any duplicate records.\n",
        "# Normally duplicate records are dropped from the dataset.\n",
        "# ---\n",
        "#\n",
        "df[df.duplicated()]"
      ],
      "execution_count": null,
      "outputs": [
        {
          "output_type": "execute_result",
          "data": {
            "text/html": [
              "<div>\n",
              "<style scoped>\n",
              "    .dataframe tbody tr th:only-of-type {\n",
              "        vertical-align: middle;\n",
              "    }\n",
              "\n",
              "    .dataframe tbody tr th {\n",
              "        vertical-align: top;\n",
              "    }\n",
              "\n",
              "    .dataframe thead th {\n",
              "        text-align: right;\n",
              "    }\n",
              "</style>\n",
              "<table border=\"1\" class=\"dataframe\">\n",
              "  <thead>\n",
              "    <tr style=\"text-align: right;\">\n",
              "      <th></th>\n",
              "      <th>NAME</th>\n",
              "      <th>CITY</th>\n",
              "      <th>COUNTRY</th>\n",
              "      <th>HEIGHT</th>\n",
              "      <th>WEIGHT</th>\n",
              "      <th>ACCOUNT A</th>\n",
              "      <th>ACCOUNT B</th>\n",
              "      <th>TOTAL ACCOUNT</th>\n",
              "    </tr>\n",
              "  </thead>\n",
              "  <tbody>\n",
              "  </tbody>\n",
              "</table>\n",
              "</div>"
            ],
            "text/plain": [
              "Empty DataFrame\n",
              "Columns: [NAME, CITY, COUNTRY, HEIGHT, WEIGHT, ACCOUNT A, ACCOUNT B, TOTAL ACCOUNT]\n",
              "Index: []"
            ]
          },
          "metadata": {},
          "execution_count": 4
        }
      ]
    },
    {
      "cell_type": "code",
      "metadata": {
        "id": "Kd6R2AB77A1e",
        "colab": {
          "base_uri": "https://localhost:8080/"
        },
        "outputId": "726c1677-ef92-44a6-f906-11db9ef5fb46"
      },
      "source": [
        "# Finding the no. of duplicates\n",
        "# ---\n",
        "# \n",
        "sum(df.duplicated())  "
      ],
      "execution_count": null,
      "outputs": [
        {
          "output_type": "execute_result",
          "data": {
            "text/plain": [
              "0"
            ]
          },
          "metadata": {},
          "execution_count": 5
        }
      ]
    },
    {
      "cell_type": "markdown",
      "metadata": {
        "id": "jjWk6FgGmcFt"
      },
      "source": [
        "##### <font color=\"blue\">Example 2</font>"
      ]
    },
    {
      "cell_type": "code",
      "metadata": {
        "id": "7g_2_fG1md0X"
      },
      "source": [
        "# Example 2\n",
        "# ---\n",
        "# Dropping duplicate columns\n",
        "# ---\n",
        "# Dataset = http://bit.ly/SampleDataset\n",
        "# ---\n",
        "# OUR CODE GOES BELOW\n",
        "# \n",
        "\n",
        "# In our previous dataset, if there were duplicates we\n",
        "# could have dropped the through the use of the drop_duplicates() function \n",
        "# as shown in this example \n",
        "# ---\n",
        "# \n",
        "df_duplicates = df.drop_duplicates()"
      ],
      "execution_count": null,
      "outputs": []
    },
    {
      "cell_type": "markdown",
      "metadata": {
        "id": "uDUA4XhzmgeZ"
      },
      "source": [
        "##### <font color=\"blue\">Example 3</font>"
      ]
    },
    {
      "cell_type": "code",
      "metadata": {
        "id": "-hMBIw2YXW1U",
        "colab": {
          "base_uri": "https://localhost:8080/",
          "height": 112
        },
        "outputId": "8fa556bb-2e21-4b65-adde-92d66a6756d5"
      },
      "source": [
        "# Example 3\n",
        "# ---\n",
        "# Dropping duplicates in a specific column\n",
        "# ---\n",
        "# Dataset url = http://bit.ly/SampleDataset\n",
        "# ---\n",
        "#\n",
        "\n",
        "# We can also consider records with repeated variables/columns \n",
        "# as duplicates and deal with them. For example, we can \n",
        "# identify duplicates in our dataset based on HEIGHT\n",
        "# ---\n",
        "#  \n",
        "duplicates_df = df[df.duplicated(['HEIGHT'])] \n",
        "duplicates_df"
      ],
      "execution_count": null,
      "outputs": [
        {
          "output_type": "execute_result",
          "data": {
            "text/html": [
              "<div>\n",
              "<style scoped>\n",
              "    .dataframe tbody tr th:only-of-type {\n",
              "        vertical-align: middle;\n",
              "    }\n",
              "\n",
              "    .dataframe tbody tr th {\n",
              "        vertical-align: top;\n",
              "    }\n",
              "\n",
              "    .dataframe thead th {\n",
              "        text-align: right;\n",
              "    }\n",
              "</style>\n",
              "<table border=\"1\" class=\"dataframe\">\n",
              "  <thead>\n",
              "    <tr style=\"text-align: right;\">\n",
              "      <th></th>\n",
              "      <th>NAME</th>\n",
              "      <th>CITY</th>\n",
              "      <th>COUNTRY</th>\n",
              "      <th>HEIGHT</th>\n",
              "      <th>WEIGHT</th>\n",
              "      <th>ACCOUNT A</th>\n",
              "      <th>ACCOUNT B</th>\n",
              "      <th>TOTAL ACCOUNT</th>\n",
              "    </tr>\n",
              "  </thead>\n",
              "  <tbody>\n",
              "    <tr>\n",
              "      <th>6</th>\n",
              "      <td>Cindy Jules</td>\n",
              "      <td>Stockholm</td>\n",
              "      <td>Sweden</td>\n",
              "      <td>48</td>\n",
              "      <td>117.0</td>\n",
              "      <td>3445.0</td>\n",
              "      <td>5504</td>\n",
              "      <td>8949</td>\n",
              "    </tr>\n",
              "    <tr>\n",
              "      <th>7</th>\n",
              "      <td>John Paul</td>\n",
              "      <td>LONDON</td>\n",
              "      <td>UNITED KINGDOM</td>\n",
              "      <td>62</td>\n",
              "      <td>NaN</td>\n",
              "      <td>4500.0</td>\n",
              "      <td>2300</td>\n",
              "      <td>6800</td>\n",
              "    </tr>\n",
              "  </tbody>\n",
              "</table>\n",
              "</div>"
            ],
            "text/plain": [
              "          NAME       CITY         COUNTRY  ...  ACCOUNT A  ACCOUNT B  TOTAL ACCOUNT\n",
              "6  Cindy Jules  Stockholm          Sweden  ...     3445.0       5504           8949\n",
              "7    John Paul  LONDON     UNITED KINGDOM  ...     4500.0       2300           6800\n",
              "\n",
              "[2 rows x 8 columns]"
            ]
          },
          "metadata": {},
          "execution_count": 7
        }
      ]
    },
    {
      "cell_type": "code",
      "metadata": {
        "id": "D33CBMxu5agd",
        "colab": {
          "base_uri": "https://localhost:8080/",
          "height": 238
        },
        "outputId": "8c0abe14-7583-4438-8a24-4622a15edd92"
      },
      "source": [
        "# Then dropping the duplicates as shown below.\n",
        "# NB: We will save them in a new dataframe object which will contain our unique dataframe\n",
        "# --- \n",
        "# \n",
        "unique_df = df.drop_duplicates(['HEIGHT'])\n",
        "\n",
        "# Determining the size of our new dataset \n",
        "# We note that the two records were dropped from our original dataset\n",
        "# ---\n",
        "# \n",
        "unique_df"
      ],
      "execution_count": null,
      "outputs": [
        {
          "output_type": "execute_result",
          "data": {
            "text/html": [
              "<div>\n",
              "<style scoped>\n",
              "    .dataframe tbody tr th:only-of-type {\n",
              "        vertical-align: middle;\n",
              "    }\n",
              "\n",
              "    .dataframe tbody tr th {\n",
              "        vertical-align: top;\n",
              "    }\n",
              "\n",
              "    .dataframe thead th {\n",
              "        text-align: right;\n",
              "    }\n",
              "</style>\n",
              "<table border=\"1\" class=\"dataframe\">\n",
              "  <thead>\n",
              "    <tr style=\"text-align: right;\">\n",
              "      <th></th>\n",
              "      <th>NAME</th>\n",
              "      <th>CITY</th>\n",
              "      <th>COUNTRY</th>\n",
              "      <th>HEIGHT</th>\n",
              "      <th>WEIGHT</th>\n",
              "      <th>ACCOUNT A</th>\n",
              "      <th>ACCOUNT B</th>\n",
              "      <th>TOTAL ACCOUNT</th>\n",
              "    </tr>\n",
              "  </thead>\n",
              "  <tbody>\n",
              "    <tr>\n",
              "      <th>0</th>\n",
              "      <td>Adi Dako</td>\n",
              "      <td>LISBON</td>\n",
              "      <td>PORTUGAL</td>\n",
              "      <td>56</td>\n",
              "      <td>132.0</td>\n",
              "      <td>2390.0</td>\n",
              "      <td>4340</td>\n",
              "      <td>6730</td>\n",
              "    </tr>\n",
              "    <tr>\n",
              "      <th>1</th>\n",
              "      <td>John Paul</td>\n",
              "      <td>LONDON</td>\n",
              "      <td>UNITED KINGDOM</td>\n",
              "      <td>62</td>\n",
              "      <td>165.0</td>\n",
              "      <td>4500.0</td>\n",
              "      <td>34334</td>\n",
              "      <td>38834</td>\n",
              "    </tr>\n",
              "    <tr>\n",
              "      <th>2</th>\n",
              "      <td>Cindy Jules</td>\n",
              "      <td>Stockholm</td>\n",
              "      <td>Sweden</td>\n",
              "      <td>48</td>\n",
              "      <td>117.0</td>\n",
              "      <td>NaN</td>\n",
              "      <td>5504</td>\n",
              "      <td>8949</td>\n",
              "    </tr>\n",
              "    <tr>\n",
              "      <th>3</th>\n",
              "      <td>Arthur Kegels</td>\n",
              "      <td>BRUSSELS</td>\n",
              "      <td>BELGIUM</td>\n",
              "      <td>59</td>\n",
              "      <td>121.0</td>\n",
              "      <td>4344.0</td>\n",
              "      <td>8999</td>\n",
              "      <td>300</td>\n",
              "    </tr>\n",
              "    <tr>\n",
              "      <th>4</th>\n",
              "      <td>Freya Bismark</td>\n",
              "      <td>Berlin</td>\n",
              "      <td>GERMANYY</td>\n",
              "      <td>53</td>\n",
              "      <td>126.0</td>\n",
              "      <td>7000.0</td>\n",
              "      <td>19000</td>\n",
              "      <td>26000</td>\n",
              "    </tr>\n",
              "    <tr>\n",
              "      <th>5</th>\n",
              "      <td>Rena Filip</td>\n",
              "      <td>Brasilia</td>\n",
              "      <td>BRAZIL</td>\n",
              "      <td>50</td>\n",
              "      <td>167.0</td>\n",
              "      <td>4999.0</td>\n",
              "      <td>3999</td>\n",
              "      <td>3450</td>\n",
              "    </tr>\n",
              "  </tbody>\n",
              "</table>\n",
              "</div>"
            ],
            "text/plain": [
              "                NAME               CITY  ... ACCOUNT B  TOTAL ACCOUNT\n",
              "0          Adi Dako          LISBON      ...      4340           6730\n",
              "1          John Paul          LONDON     ...     34334          38834\n",
              "2        Cindy Jules          Stockholm  ...      5504           8949\n",
              "3      Arthur Kegels           BRUSSELS  ...      8999            300\n",
              "4      Freya Bismark             Berlin  ...     19000          26000\n",
              "5         Rena Filip       Brasilia      ...      3999           3450\n",
              "\n",
              "[6 rows x 8 columns]"
            ]
          },
          "metadata": {},
          "execution_count": 9
        }
      ]
    },
    {
      "cell_type": "markdown",
      "metadata": {
        "id": "2gjU-yrmmo8I"
      },
      "source": [
        "#### <font color=\"green\">Challenges</font> "
      ]
    },
    {
      "cell_type": "markdown",
      "metadata": {
        "id": "_XzGFitQl60K"
      },
      "source": [
        "# Data Cleaning with Python - Duplicates"
      ]
    },
    {
      "cell_type": "markdown",
      "metadata": {
        "id": "4eKKFvwwm0nk"
      },
      "source": [
        "##### <font color=\"green\">Challenge 1</font>"
      ]
    },
    {
      "cell_type": "code",
      "metadata": {
        "id": "CJ-T2bNMm0AZ",
        "colab": {
          "base_uri": "https://localhost:8080/"
        },
        "outputId": "58bab0ff-f409-4533-a4e6-ee1e444c7ead"
      },
      "source": [
        "# Challenge \n",
        "# Question: Find duplicate in the following dataset.\n",
        "df=pd.read_csv('http://bit.ly/StaffDataset')\n",
        "df.shape"
      ],
      "execution_count": null,
      "outputs": [
        {
          "output_type": "execute_result",
          "data": {
            "text/plain": [
              "(969, 8)"
            ]
          },
          "metadata": {},
          "execution_count": 31
        }
      ]
    },
    {
      "cell_type": "code",
      "metadata": {
        "colab": {
          "base_uri": "https://localhost:8080/",
          "height": 677
        },
        "id": "3ro8EPiGHAxv",
        "outputId": "13c76d63-d4db-4515-f866-715437b1b6c9"
      },
      "source": [
        "duplicate_data=df[df.duplicated()]\n",
        "duplicate_data"
      ],
      "execution_count": null,
      "outputs": [
        {
          "output_type": "execute_result",
          "data": {
            "text/html": [
              "<div>\n",
              "<style scoped>\n",
              "    .dataframe tbody tr th:only-of-type {\n",
              "        vertical-align: middle;\n",
              "    }\n",
              "\n",
              "    .dataframe tbody tr th {\n",
              "        vertical-align: top;\n",
              "    }\n",
              "\n",
              "    .dataframe thead th {\n",
              "        text-align: right;\n",
              "    }\n",
              "</style>\n",
              "<table border=\"1\" class=\"dataframe\">\n",
              "  <thead>\n",
              "    <tr style=\"text-align: right;\">\n",
              "      <th></th>\n",
              "      <th>First Name</th>\n",
              "      <th>Gender</th>\n",
              "      <th>Start Date</th>\n",
              "      <th>Last Login Time</th>\n",
              "      <th>Salary</th>\n",
              "      <th>Bonus %</th>\n",
              "      <th>Senior Management</th>\n",
              "      <th>Team</th>\n",
              "    </tr>\n",
              "  </thead>\n",
              "  <tbody>\n",
              "    <tr>\n",
              "      <th>949</th>\n",
              "      <td>James</td>\n",
              "      <td>NaN</td>\n",
              "      <td>11/22/1983</td>\n",
              "      <td>10:52 PM</td>\n",
              "      <td>68501</td>\n",
              "      <td>14.316</td>\n",
              "      <td>False</td>\n",
              "      <td>Marketing</td>\n",
              "    </tr>\n",
              "    <tr>\n",
              "      <th>950</th>\n",
              "      <td>Kathy</td>\n",
              "      <td>Female</td>\n",
              "      <td>3/18/2000</td>\n",
              "      <td>7:26 PM</td>\n",
              "      <td>149563</td>\n",
              "      <td>16.991</td>\n",
              "      <td>True</td>\n",
              "      <td>Finance</td>\n",
              "    </tr>\n",
              "    <tr>\n",
              "      <th>951</th>\n",
              "      <td>Marilyn</td>\n",
              "      <td>NaN</td>\n",
              "      <td>8/22/1999</td>\n",
              "      <td>9:09 AM</td>\n",
              "      <td>103386</td>\n",
              "      <td>11.451</td>\n",
              "      <td>False</td>\n",
              "      <td>Distribution</td>\n",
              "    </tr>\n",
              "    <tr>\n",
              "      <th>952</th>\n",
              "      <td>Arthur</td>\n",
              "      <td>Male</td>\n",
              "      <td>4/13/1998</td>\n",
              "      <td>11:28 AM</td>\n",
              "      <td>89786</td>\n",
              "      <td>14.422</td>\n",
              "      <td>True</td>\n",
              "      <td>Legal</td>\n",
              "    </tr>\n",
              "    <tr>\n",
              "      <th>953</th>\n",
              "      <td>Terry</td>\n",
              "      <td>Male</td>\n",
              "      <td>9/3/1990</td>\n",
              "      <td>9:15 PM</td>\n",
              "      <td>52226</td>\n",
              "      <td>19.135</td>\n",
              "      <td>False</td>\n",
              "      <td>Client Services</td>\n",
              "    </tr>\n",
              "    <tr>\n",
              "      <th>954</th>\n",
              "      <td>Mary</td>\n",
              "      <td>Female</td>\n",
              "      <td>8/13/1999</td>\n",
              "      <td>1:03 AM</td>\n",
              "      <td>134645</td>\n",
              "      <td>18.197</td>\n",
              "      <td>False</td>\n",
              "      <td>Business Development</td>\n",
              "    </tr>\n",
              "    <tr>\n",
              "      <th>955</th>\n",
              "      <td>NaN</td>\n",
              "      <td>Female</td>\n",
              "      <td>3/23/2014</td>\n",
              "      <td>1:28 PM</td>\n",
              "      <td>59148</td>\n",
              "      <td>9.061</td>\n",
              "      <td>NaN</td>\n",
              "      <td>Legal</td>\n",
              "    </tr>\n",
              "    <tr>\n",
              "      <th>956</th>\n",
              "      <td>NaN</td>\n",
              "      <td>Female</td>\n",
              "      <td>7/9/1991</td>\n",
              "      <td>6:52 PM</td>\n",
              "      <td>42341</td>\n",
              "      <td>7.014</td>\n",
              "      <td>NaN</td>\n",
              "      <td>Sales</td>\n",
              "    </tr>\n",
              "    <tr>\n",
              "      <th>957</th>\n",
              "      <td>Christopher</td>\n",
              "      <td>Male</td>\n",
              "      <td>12/24/2011</td>\n",
              "      <td>12:22 PM</td>\n",
              "      <td>142178</td>\n",
              "      <td>17.984</td>\n",
              "      <td>True</td>\n",
              "      <td>Sales</td>\n",
              "    </tr>\n",
              "    <tr>\n",
              "      <th>958</th>\n",
              "      <td>Peter</td>\n",
              "      <td>NaN</td>\n",
              "      <td>9/3/1987</td>\n",
              "      <td>5:59 PM</td>\n",
              "      <td>38989</td>\n",
              "      <td>7.017</td>\n",
              "      <td>True</td>\n",
              "      <td>Marketing</td>\n",
              "    </tr>\n",
              "    <tr>\n",
              "      <th>959</th>\n",
              "      <td>Michelle</td>\n",
              "      <td>Female</td>\n",
              "      <td>11/4/1996</td>\n",
              "      <td>9:34 PM</td>\n",
              "      <td>53754</td>\n",
              "      <td>5.455</td>\n",
              "      <td>True</td>\n",
              "      <td>Product</td>\n",
              "    </tr>\n",
              "    <tr>\n",
              "      <th>960</th>\n",
              "      <td>Irene</td>\n",
              "      <td>Female</td>\n",
              "      <td>1/29/1992</td>\n",
              "      <td>11:36 AM</td>\n",
              "      <td>133772</td>\n",
              "      <td>19.020</td>\n",
              "      <td>True</td>\n",
              "      <td>Sales</td>\n",
              "    </tr>\n",
              "    <tr>\n",
              "      <th>961</th>\n",
              "      <td>Patrick</td>\n",
              "      <td>Male</td>\n",
              "      <td>8/17/2007</td>\n",
              "      <td>3:16 AM</td>\n",
              "      <td>143499</td>\n",
              "      <td>17.495</td>\n",
              "      <td>True</td>\n",
              "      <td>Engineering</td>\n",
              "    </tr>\n",
              "    <tr>\n",
              "      <th>962</th>\n",
              "      <td>Sara</td>\n",
              "      <td>Female</td>\n",
              "      <td>9/23/1991</td>\n",
              "      <td>6:17 PM</td>\n",
              "      <td>97058</td>\n",
              "      <td>9.402</td>\n",
              "      <td>False</td>\n",
              "      <td>Finance</td>\n",
              "    </tr>\n",
              "    <tr>\n",
              "      <th>963</th>\n",
              "      <td>Lillian</td>\n",
              "      <td>Female</td>\n",
              "      <td>12/21/2008</td>\n",
              "      <td>6:51 PM</td>\n",
              "      <td>85446</td>\n",
              "      <td>3.959</td>\n",
              "      <td>True</td>\n",
              "      <td>Engineering</td>\n",
              "    </tr>\n",
              "    <tr>\n",
              "      <th>964</th>\n",
              "      <td>NaN</td>\n",
              "      <td>NaN</td>\n",
              "      <td>9/18/2007</td>\n",
              "      <td>6:59 PM</td>\n",
              "      <td>40297</td>\n",
              "      <td>6.185</td>\n",
              "      <td>NaN</td>\n",
              "      <td>Client Services</td>\n",
              "    </tr>\n",
              "    <tr>\n",
              "      <th>965</th>\n",
              "      <td>Willie</td>\n",
              "      <td>Male</td>\n",
              "      <td>2/17/1998</td>\n",
              "      <td>8:20 PM</td>\n",
              "      <td>146651</td>\n",
              "      <td>1.451</td>\n",
              "      <td>True</td>\n",
              "      <td>Engineering</td>\n",
              "    </tr>\n",
              "    <tr>\n",
              "      <th>966</th>\n",
              "      <td>Victor</td>\n",
              "      <td>Male</td>\n",
              "      <td>1/8/2003</td>\n",
              "      <td>1:02 PM</td>\n",
              "      <td>124486</td>\n",
              "      <td>10.166</td>\n",
              "      <td>False</td>\n",
              "      <td>Product</td>\n",
              "    </tr>\n",
              "    <tr>\n",
              "      <th>967</th>\n",
              "      <td>Wayne</td>\n",
              "      <td>Male</td>\n",
              "      <td>4/7/2012</td>\n",
              "      <td>8:00 AM</td>\n",
              "      <td>102652</td>\n",
              "      <td>14.085</td>\n",
              "      <td>True</td>\n",
              "      <td>Distribution</td>\n",
              "    </tr>\n",
              "    <tr>\n",
              "      <th>968</th>\n",
              "      <td>Jane</td>\n",
              "      <td>Female</td>\n",
              "      <td>9/3/1997</td>\n",
              "      <td>2:01 AM</td>\n",
              "      <td>144474</td>\n",
              "      <td>17.648</td>\n",
              "      <td>False</td>\n",
              "      <td>Product</td>\n",
              "    </tr>\n",
              "  </tbody>\n",
              "</table>\n",
              "</div>"
            ],
            "text/plain": [
              "      First Name  Gender  ... Senior Management                  Team\n",
              "949        James     NaN  ...             False             Marketing\n",
              "950        Kathy  Female  ...              True               Finance\n",
              "951      Marilyn     NaN  ...             False          Distribution\n",
              "952       Arthur    Male  ...              True                 Legal\n",
              "953        Terry    Male  ...             False       Client Services\n",
              "954         Mary  Female  ...             False  Business Development\n",
              "955          NaN  Female  ...               NaN                 Legal\n",
              "956          NaN  Female  ...               NaN                 Sales\n",
              "957  Christopher    Male  ...              True                 Sales\n",
              "958        Peter     NaN  ...              True             Marketing\n",
              "959     Michelle  Female  ...              True               Product\n",
              "960        Irene  Female  ...              True                 Sales\n",
              "961      Patrick    Male  ...              True           Engineering\n",
              "962         Sara  Female  ...             False               Finance\n",
              "963      Lillian  Female  ...              True           Engineering\n",
              "964          NaN     NaN  ...               NaN       Client Services\n",
              "965       Willie    Male  ...              True           Engineering\n",
              "966       Victor    Male  ...             False               Product\n",
              "967        Wayne    Male  ...              True          Distribution\n",
              "968         Jane  Female  ...             False               Product\n",
              "\n",
              "[20 rows x 8 columns]"
            ]
          },
          "metadata": {},
          "execution_count": 32
        }
      ]
    },
    {
      "cell_type": "code",
      "metadata": {
        "colab": {
          "base_uri": "https://localhost:8080/"
        },
        "id": "DF56r7xwIg-F",
        "outputId": "d3f41df1-4b96-4bc9-a039-51c75ce68ad0"
      },
      "source": [
        "len(df[df.duplicated()])"
      ],
      "execution_count": null,
      "outputs": [
        {
          "output_type": "execute_result",
          "data": {
            "text/plain": [
              "20"
            ]
          },
          "metadata": {},
          "execution_count": 27
        }
      ]
    },
    {
      "cell_type": "markdown",
      "metadata": {
        "id": "-2w3AIF3m7W7"
      },
      "source": [
        "##### <font color=\"green\">Challenge 2</font>"
      ]
    },
    {
      "cell_type": "code",
      "metadata": {
        "id": "UGSOBG7im9Ch",
        "colab": {
          "base_uri": "https://localhost:8080/"
        },
        "outputId": "35b7a188-5d11-4f04-98b6-e8f07eba3954"
      },
      "source": [
        "# Challenge 2\n",
        "# ---\n",
        "# Question: Deal with outliers in the given dataset.\n",
        "# ---\n",
        "# Dataset url = http://bit.ly/StaffDataset\n",
        "# ---\n",
        "df=pd.read_csv('http://bit.ly/StaffDataset')\n",
        "df.shape"
      ],
      "execution_count": null,
      "outputs": [
        {
          "output_type": "execute_result",
          "data": {
            "text/plain": [
              "(969, 8)"
            ]
          },
          "metadata": {},
          "execution_count": 28
        }
      ]
    },
    {
      "cell_type": "code",
      "metadata": {
        "colab": {
          "base_uri": "https://localhost:8080/"
        },
        "id": "4AJYAv41KA3C",
        "outputId": "c1cccdd4-5572-4e11-f6bc-ea118069b9b9"
      },
      "source": [
        "df.drop_duplicates()\n",
        "df.shape"
      ],
      "execution_count": null,
      "outputs": [
        {
          "output_type": "execute_result",
          "data": {
            "text/plain": [
              "(969, 8)"
            ]
          },
          "metadata": {},
          "execution_count": 29
        }
      ]
    },
    {
      "cell_type": "code",
      "metadata": {
        "colab": {
          "base_uri": "https://localhost:8080/"
        },
        "id": "VYfeKsPeKHTf",
        "outputId": "37aa4b01-c4d5-451c-94e6-093c7a1ef719"
      },
      "source": [
        "df.drop_duplicates(inplace=True)\n",
        "df.shape"
      ],
      "execution_count": null,
      "outputs": [
        {
          "output_type": "execute_result",
          "data": {
            "text/plain": [
              "(949, 8)"
            ]
          },
          "metadata": {},
          "execution_count": 30
        }
      ]
    },
    {
      "cell_type": "markdown",
      "metadata": {
        "id": "S41TBwCKKNrv"
      },
      "source": [
        "we can analyze through shape, duplicates are removed"
      ]
    },
    {
      "cell_type": "code",
      "metadata": {
        "id": "Ul6b81gHKqc1"
      },
      "source": [
        ""
      ],
      "execution_count": null,
      "outputs": []
    }
  ]
}